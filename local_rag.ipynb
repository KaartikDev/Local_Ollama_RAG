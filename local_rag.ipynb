{
 "cells": [
  {
   "cell_type": "markdown",
   "id": "f361fcf5",
   "metadata": {},
   "source": [
    "### Loading docs with langchain pyPDFLoader"
   ]
  },
  {
   "cell_type": "code",
   "execution_count": 14,
   "id": "9868d997",
   "metadata": {},
   "outputs": [
    {
     "name": "stdout",
     "output_type": "stream",
     "text": [
      "The number of pages is 29\n",
      "\n",
      "The first page's first 200 characters is:\n",
      "UNITED STATES\n",
      "SECURITIES AND EXCHANGE COMMISSION\n",
      "Washington, D.C. 20549\n",
      "FORM 10-Q\n",
      "(Mark One)\n",
      "☒  QUARTERLY REPORT PURSUANT TO SECTION 13 OR 15(d) OF THE SECURITIES EXCHANGE ACT OF 1934\n",
      "For the quarterl\n",
      "\n",
      "The metadata is {'producer': 'EDGRpdf Service w/ EO.Pdf 22.0.40.0', 'creator': 'EDGAR Filing HTML Converter', 'creationdate': '2025-05-02T06:05:09-04:00', 'title': '0000320193-25-000057', 'author': 'EDGAR® Online LLC, a subsidiary of OTC Markets Group', 'subject': 'Form 10-Q filed on 2025-05-02 for the period ending 2025-03-29', 'keywords': '0000320193-25-000057; ; 10-Q', 'moddate': '2025-05-02T06:07:30-04:00', 'source': 'data/May Apple 10q.pdf', 'total_pages': 29, 'page': 0, 'page_label': '1'}\n"
     ]
    }
   ],
   "source": [
    "\n",
    "# !pip install langchain-community pypdf\n",
    "from langchain_community.document_loaders import PyPDFLoader\n",
    "\n",
    "file_path = \"data/May Apple 10q.pdf\"\n",
    "loader = PyPDFLoader(file_path)\n",
    "\n",
    "docs = loader.load()\n",
    "\n",
    "# The number of pages\n",
    "print(f\"The number of pages is {len(docs)}\")\n",
    "print()\n",
    "print(f\"The first page's first 200 characters is:\\n{docs[0].page_content[:200]}\\n\")\n",
    " \n",
    "print(f\"The metadata is {docs[0].metadata}\")\n",
    "\n"
   ]
  },
  {
   "cell_type": "markdown",
   "id": "aa16182e",
   "metadata": {},
   "source": [
    "### Splitting up docs into chunks"
   ]
  },
  {
   "cell_type": "code",
   "execution_count": 2,
   "id": "b5e5e893",
   "metadata": {},
   "outputs": [
    {
     "name": "stdout",
     "output_type": "stream",
     "text": [
      "Performing character based splitting\n",
      "The number of total splits(chunks) is 108\n"
     ]
    }
   ],
   "source": [
    "from langchain_text_splitters import RecursiveCharacterTextSplitter\n",
    "#Character based splitting, token based splitting is also avaible\n",
    "#Overlap ensures context is not lost\n",
    "text_splitter = RecursiveCharacterTextSplitter(\n",
    "    chunk_size=1000, chunk_overlap=200, add_start_index=True\n",
    ")\n",
    "all_splits = text_splitter.split_documents(docs)\n",
    "print(\"Performing character based splitting\")\n",
    "print(f\"The number of total splits(chunks) is {len(all_splits)}\")"
   ]
  },
  {
   "cell_type": "markdown",
   "id": "e99cb4b4",
   "metadata": {},
   "source": [
    "### Making Embedings"
   ]
  },
  {
   "cell_type": "code",
   "execution_count": 3,
   "id": "55dbebe0",
   "metadata": {},
   "outputs": [],
   "source": [
    "#Pull embed model from ollama$\n",
    "#!ollama pull nomic-embed-text\n",
    " \n",
    "# Install dependancy\n",
    "# !pip install -U langchain_ollama\n"
   ]
  },
  {
   "cell_type": "code",
   "execution_count": 4,
   "id": "77c81274",
   "metadata": {},
   "outputs": [],
   "source": [
    "from langchain_ollama import OllamaEmbeddings\n",
    "\n",
    "embed = OllamaEmbeddings(\n",
    "    model=\"nomic-embed-text\"\n",
    ")\n"
   ]
  },
  {
   "cell_type": "code",
   "execution_count": null,
   "id": "240d3d93",
   "metadata": {},
   "outputs": [
    {
     "name": "stdout",
     "output_type": "stream",
     "text": [
      "Preview what vector of first chunk looks like\n",
      "Generated vectors of length 768\n",
      "\n",
      "[0.007543127, 0.06163994, -0.20194702, -0.032155994, 0.03740007, -0.027106242, 0.055874683, 0.032962874, 0.043230098, 0.0026530274]\n"
     ]
    }
   ],
   "source": [
    "# Sample first two chunks and embed them\n",
    "vector_1 = embed.embed_query(all_splits[0].page_content)\n",
    "vector_2 = embed.embed_query(all_splits[1].page_content)\n",
    "\n",
    "print(\"Preview what vector of first chunk looks like\")\n",
    "assert len(vector_1) == len(vector_2)\n",
    "print(f\"Generated vectors of length {len(vector_1)}\\n\")\n",
    "print(vector_1[:10])"
   ]
  },
  {
   "cell_type": "code",
   "execution_count": 7,
   "id": "47ea18d8",
   "metadata": {},
   "outputs": [],
   "source": [
    "#Embed all chunks\n",
    "all_pages = [curr_split.page_content for curr_split in all_splits]\n",
    "all_vectors = embed.embed_documents(all_pages)\n"
   ]
  },
  {
   "cell_type": "markdown",
   "id": "b790c2d0",
   "metadata": {},
   "source": [
    "### Saving in a FAISS Vector Store"
   ]
  },
  {
   "cell_type": "code",
   "execution_count": null,
   "id": "d9db3eda",
   "metadata": {},
   "outputs": [],
   "source": [
    "# Dependancy\n",
    "# pip install -qU langchain-community\n",
    "# pip install faiss-cpu\n"
   ]
  },
  {
   "cell_type": "code",
   "execution_count": 8,
   "id": "f16d2c3d",
   "metadata": {},
   "outputs": [],
   "source": [
    "import faiss\n",
    "from langchain_community.docstore.in_memory import InMemoryDocstore\n",
    "from langchain_community.vectorstores import FAISS\n",
    "\n",
    "\n",
    "\"\"\" Facebook AI Similarity Search (FAISS) is a library for efficient similarity search and clustering of dense vectors.\n",
    "It contains algorithms that search in sets of vectors of any size, up to ones that possibly do not fit in RAM. \n",
    "It also includes supporting code for evaluation and parameter tuning.\"\"\"\n",
    "\n",
    "#Determine dimnesions of embedding vectors dynamically by testing an example string\n",
    "embedding_dim = len(embed.embed_query(\"hello world\"))\n",
    "#initlize a flat faiis store that uses L1\n",
    "index = faiss.IndexFlatL2(embedding_dim)\n",
    "#Constructing a vector store instance\n",
    "vector_store = FAISS(\n",
    "    embedding_function=embed,\n",
    "    index=index,\n",
    "    docstore=InMemoryDocstore(),\n",
    "    index_to_docstore_id={},\n",
    ")\n",
    "#Populating with our vectors\n",
    "ids = vector_store.add_documents(documents=all_splits)\n",
    "\n"
   ]
  },
  {
   "cell_type": "code",
   "execution_count": null,
   "id": "6eca9d0c",
   "metadata": {},
   "outputs": [
    {
     "name": "stdout",
     "output_type": "stream",
     "text": [
      "\n",
      "Searching for documents relevant to: 'What does apple sell?'\n",
      "\n",
      "Found the following relevant chunks:\n",
      "\n",
      "--- Result 1 ---\n",
      "iPhone $ 46,841 $ 45,963 2 % $ 115,979 $ 115,665 — %\n",
      "Mac 7,949 7,451 7 % 16,936 15,231 11 %\n",
      "iPad 6,402 5,559 15 % 14,490 12,582 15 %\n",
      "Wearables, Home and Accessories 7,522 7,913 (5)% 19,269 19,866 (3)%\n",
      "Services 26,645 23,867 12 % 52,985 46,984 13 %\n",
      "Total net sales $ 95,359 $ 90,753 5 % $ 219,659 $ 210,328 4 %\n",
      "iPhone\n",
      "iPhone net sales increased during the second quarter of 2025 compared to the second quarter of 2024 due primarily to higher net sales of Pro models. Year-over-year iPhone net sales were relatively flat during the first six months of 2025.\n",
      "Mac\n",
      "Mac net sales increased during the second quarter and first six months of 2025 compared to the same periods in 2024 due primarily to higher net sales of bothlaptops and desktops.\n",
      "iPad\n",
      "iPad net sales increased during the second quarter and first six months of 2025 compared to the same periods in 2024 due primarily to higher net sales of iPadAir.\n",
      "Wearables, Home and Accessories\n",
      "\n",
      "--- Result 2 ---\n",
      "revenue represented a moderately higher proportion of net sales.\n",
      "As of March 29, 2025 and September 28, 2024, the Company had total deferred revenue of $13.6 billion and $12.8 billion, respectively. As of March 29, 2025,the Company expects 66% of total deferred revenue to be realized in less than a year, 24% within one-to-two years, 9% within two-to-three years and 1% in\n",
      "greater than three years.\n",
      "®\n",
      "®\n",
      "®\n",
      "Apple Inc. | Q2 2025 Form 10-Q | 6\n",
      "\n",
      "--- Result 3 ---\n",
      "Business Seasonality and Product Introductions\n",
      "The Company has historically experienced higher net sales in its first quarter compared to other quarters in its fiscal year due in part to seasonal holiday\n",
      "demand. Additionally, new product and service introductions can significantly impact net sales, cost of sales and operating expenses. The timing of productintroductions can also impact the Company’s net sales to its indirect distribution channels as these channels are filled with new inventory following a productlaunch, and channel inventory of an older product often declines as the launch of a newer product approaches. Net sales can also be affected when consumers\n",
      "and distributors anticipate a product introduction.\n",
      "During the second quarter of 2025, the Company announced the following new or updated products:\n",
      "• iPhone 16e• iPad Air• iPad\n",
      "• MacBook Air• Mac Studio\n",
      "Macroeconomic Conditions\n",
      "\n",
      "--- Result 4 ---\n",
      "non-trade receivables, which accounted for 49% and 19%. As of September 28, 2024, the Company had two vendors that individually represented 10% or moreof total vendor non-trade receivables, which accounted for 44% and 23%.\n",
      "Note 5 – Condensed Consolidated Financial Statement Details\n",
      "The following tables show the Company’s condensed consolidated financial statement details as of March 29, 2025 and September 28, 2024 (in millions):\n",
      "Inventories\n",
      "March 29,2025 September 28,2024\n",
      "Components $ 2,673 $ 3,627 \n",
      "Finished goods 3,596 3,659 \n",
      "Total inventories $ 6,269 $ 7,286 \n",
      "Property, Plant and Equipment, Net\n",
      "March 29,2025 September 28,2024\n",
      "Gross property, plant and equipment $ 121,179 $ 119,128 \n",
      "Accumulated depreciation (74,303) (73,448)\n",
      "Total property, plant and equipment, net $ 46,876 $ 45,680 \n",
      "Apple Inc. | Q2 2025 Form 10-Q | 9\n"
     ]
    }
   ],
   "source": [
    "#What does apple sell? <-- test question\n",
    "question = \"What does apple sell?\"\n",
    "\n",
    "print(f\"\\nSearching for documents relevant to: '{question}'\")\n",
    "# Use the vector store to find similar documents\n",
    "# It automatically embeds the user's question and compares it to the chunk vectors.\n",
    "results = vector_store.similarity_search(query=question)\n",
    "\n",
    "\n",
    "#  Inspect the Results ---\n",
    "\n",
    "print(\"\\nFound the following relevant chunks:\")\n",
    "for i, doc in enumerate(results):\n",
    "    print(f\"\\n--- Result {i+1} ---\")\n",
    "    print(doc.page_content)\n",
    "\n"
   ]
  },
  {
   "cell_type": "markdown",
   "id": "cb3dfc1c",
   "metadata": {},
   "source": [
    "### Making The Augmented Prompt"
   ]
  },
  {
   "cell_type": "code",
   "execution_count": 11,
   "id": "5fc7a456",
   "metadata": {},
   "outputs": [
    {
     "name": "stdout",
     "output_type": "stream",
     "text": [
      "\n",
      "Searching for documents relevant to: 'How did iPhone sales perform compared to the same quarter last year? '\n"
     ]
    }
   ],
   "source": [
    "my_prompt = input(\"Ask a question about the document: \")\n",
    "\n",
    "\n",
    "print(f\"\\nSearching for documents relevant to: '{my_prompt}'\")\n",
    "# Use the vector store to find similar documents\n",
    "# It automatically embeds the user's question and compares it to the chunk vectors.\n",
    "results = vector_store.similarity_search(query=my_prompt)\n",
    "\n",
    "\n",
    "retrieved_context = \"\\nFound the following relevant chunks from documents\"\n",
    "\n",
    "for i, doc in enumerate(results):\n",
    "    retrieved_context+=(f\"\\n--- Result {i+1} ---\")\n",
    "    retrieved_context += f\"\\n{doc.page_content}\" # Add a newline for readability\n",
    "    # retrieved_context += f\"\\nMetadata: {doc.metadata}\" # Convert metadata to string and add a label\n",
    "\n",
    "augmented_prompt = \"Answer this question: \" + my_prompt + '\\n Using this context \\n' + retrieved_context "
   ]
  },
  {
   "cell_type": "code",
   "execution_count": 12,
   "id": "8c503ca2",
   "metadata": {},
   "outputs": [
    {
     "name": "stdout",
     "output_type": "stream",
     "text": [
      "Answer this question: How did iPhone sales perform compared to the same quarter last year? \n",
      " Using this context \n",
      "\n",
      "Found the following relevant chunks from documents\n",
      "--- Result 1 ---\n",
      "iPhone $ 46,841 $ 45,963 2 % $ 115,979 $ 115,665 — %\n",
      "Mac 7,949 7,451 7 % 16,936 15,231 11 %\n",
      "iPad 6,402 5,559 15 % 14,490 12,582 15 %\n",
      "Wearables, Home and Accessories 7,522 7,913 (5)% 19,269 19,866 (3)%\n",
      "Services 26,645 23,867 12 % 52,985 46,984 13 %\n",
      "Total net sales $ 95,359 $ 90,753 5 % $ 219,659 $ 210,328 4 %\n",
      "iPhone\n",
      "iPhone net sales increased during the second quarter of 2025 compared to the second quarter of 2024 due primarily to higher net sales of Pro models. Year-over-year iPhone net sales were relatively flat during the first six months of 2025.\n",
      "Mac\n",
      "Mac net sales increased during the second quarter and first six months of 2025 compared to the same periods in 2024 due primarily to higher net sales of bothlaptops and desktops.\n",
      "iPad\n",
      "iPad net sales increased during the second quarter and first six months of 2025 compared to the same periods in 2024 due primarily to higher net sales of iPadAir.\n",
      "Wearables, Home and Accessories\n",
      "--- Result 2 ---\n",
      "Three Months Ended Six Months Ended\n",
      "March 29,2025 March 30,2024 March 29,2025 March 30,2024\n",
      "iPhone $ 46,841 $ 45,963 $ 115,979 $ 115,665 \n",
      "Mac 7,949 7,451 16,936 15,231 \n",
      "iPad 6,402 5,559 14,490 12,582 \n",
      "Wearables, Home and Accessories 7,522 7,913 19,269 19,866 \n",
      "Services 26,645 23,867 52,985 46,984 \n",
      "Total net sales $ 95,359 $ 90,753 $ 219,659 $ 210,328 \n",
      "Portion of total net sales that was included in deferred revenue as of thebeginning of the period $ 3,672 $ 3,282 $ 5,440 $ 5,135 \n",
      "The Company’s proportion of net sales by disaggregated revenue source was generally consistent for each reportable segment in Note 10, “SegmentInformation and Geographic Data” for the three- and six-month periods ended March 29, 2025 and March 30, 2024, except in Greater China, where iPhone\n",
      "revenue represented a moderately higher proportion of net sales.\n",
      "--- Result 3 ---\n",
      "Segment Operating Performance\n",
      "The following table shows net sales by reportable segment for the three- and six-month periods ended March 29, 2025 and March 30, 2024 (dollars in millions):\n",
      "Three Months Ended Six Months Ended\n",
      "March 29,2025 March 30,2024 Change March 29,2025 March 30,2024 Change\n",
      "Americas $ 40,315 $ 37,273 8 % $ 92,963 $ 87,703 6 %\n",
      "Europe 24,454 24,123 1 % 58,315 54,520 7 %\n",
      "Greater China 16,002 16,372 (2)% 34,515 37,191 (7)%\n",
      "Japan 7,298 6,262 17 % 16,285 14,029 16 %\n",
      "Rest of Asia Pacific 7,290 6,723 8 % 17,581 16,885 4 %\n",
      "Total net sales $ 95,359 $ 90,753 5 % $ 219,659 $ 210,328 4 %\n",
      "Americas\n",
      "Americas net sales increased during the second quarter and first six months of 2025 compared to the same periods in 2024 due primarily to higher net sales of\n",
      "iPhone and Services. The weakness in foreign currencies relative to the U.S. dollar had an unfavorable year-over-year impact on Americas net sales during thesecond quarter and first six months of 2025.\n",
      "Europe\n",
      "--- Result 4 ---\n",
      "Rest of Asia Pacific\n",
      "Rest of Asia Pacific net sales increased during the second quarter of 2025 compared to the second quarter of 2024 due primarily to higher net sales of Services\n",
      "and iPhone. Year-over-year Rest of Asia Pacific net sales increased during the first six months of 2025 due primarily to higher net sales of Services. Changes inforeign currencies relative to the U.S. dollar had a net unfavorable year-over-year impact on Rest of Asia Pacific net sales during the second quarter of 2025,\n",
      "while they had a net favorable impact during the first six months of 2025.\n",
      "Products and Services Performance\n",
      "The following table shows net sales by category for the three- and six-month periods ended March 29, 2025 and March 30, 2024 (dollars in millions):\n",
      "Three Months Ended Six Months Ended\n",
      "March 29,2025 March 30,2024 Change March 29,2025 March 30,2024 Change\n",
      "iPhone $ 46,841 $ 45,963 2 % $ 115,979 $ 115,665 — %\n",
      "Mac 7,949 7,451 7 % 16,936 15,231 11 %\n",
      "iPad 6,402 5,559 15 % 14,490 12,582 15 %\n"
     ]
    }
   ],
   "source": [
    "print(augmented_prompt)"
   ]
  },
  {
   "cell_type": "markdown",
   "id": "97a7198c",
   "metadata": {},
   "source": [
    "### Generating Response"
   ]
  },
  {
   "cell_type": "code",
   "execution_count": 99,
   "id": "33a0ef03",
   "metadata": {},
   "outputs": [],
   "source": [
    "# pip install ollama"
   ]
  },
  {
   "cell_type": "code",
   "execution_count": 13,
   "id": "0e8e6673",
   "metadata": {},
   "outputs": [
    {
     "name": "stdout",
     "output_type": "stream",
     "text": [
      "According to the provided information, iPhone sales increased by 2% during the second quarter of 2025 compared to the same quarter in 2024. This means that the company sold slightly more iPhones in 2025 than it did in 2024, but not significantly more. The year-over-year growth was relatively flat for the first six months of 2025, with a minimal increase of -0.35% ($115,979 compared to $115,665).\n"
     ]
    }
   ],
   "source": [
    "import ollama\n",
    "\n",
    "# Define the messages to send to the model\n",
    "# The 'role' can be 'system', 'user', or 'assistant'\n",
    "messages = [\n",
    "    {\n",
    "        'role': 'system',\n",
    "        'content': 'You are a helpful assistant.',\n",
    "    },\n",
    "    {\n",
    "        'role': 'user',\n",
    "        'content': augmented_prompt,\n",
    "    },\n",
    "]\n",
    "\n",
    "# Send the request to the Llama 3.1 model\n",
    "# The model name must match what you pulled with 'ollama pull'\n",
    "response = ollama.chat(model='llama3.1', messages=messages)\n",
    "\n",
    "# Print the content of the response\n",
    "print(response['message']['content'])\n",
    "\n",
    "\n"
   ]
  },
  {
   "cell_type": "code",
   "execution_count": null,
   "id": "cf313b06",
   "metadata": {},
   "outputs": [],
   "source": []
  }
 ],
 "metadata": {
  "kernelspec": {
   "display_name": "venv",
   "language": "python",
   "name": "python3"
  },
  "language_info": {
   "codemirror_mode": {
    "name": "ipython",
    "version": 3
   },
   "file_extension": ".py",
   "mimetype": "text/x-python",
   "name": "python",
   "nbconvert_exporter": "python",
   "pygments_lexer": "ipython3",
   "version": "3.13.5"
  }
 },
 "nbformat": 4,
 "nbformat_minor": 5
}
